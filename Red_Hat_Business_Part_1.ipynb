{
  "nbformat": 4,
  "nbformat_minor": 0,
  "metadata": {
    "colab": {
      "name": "Red_Hat_Business_Part_1",
      "provenance": [],
      "collapsed_sections": [],
      "include_colab_link": true
    },
    "kernelspec": {
      "name": "python3",
      "display_name": "Python 3"
    },
    "language_info": {
      "name": "python"
    },
    "accelerator": "GPU"
  },
  "cells": [
    {
      "cell_type": "markdown",
      "metadata": {
        "id": "view-in-github",
        "colab_type": "text"
      },
      "source": [
        "<a href=\"https://colab.research.google.com/github/sraghu678/tusk/blob/master/Red_Hat_Business_Part_1.ipynb\" target=\"_parent\"><img src=\"https://colab.research.google.com/assets/colab-badge.svg\" alt=\"Open In Colab\"/></a>"
      ]
    },
    {
      "cell_type": "code",
      "metadata": {
        "id": "ypcyRnV687_y"
      },
      "source": [
        "import pandas as pd\n",
        "import numpy as np\n",
        "import io "
      ],
      "execution_count": null,
      "outputs": []
    },
    {
      "cell_type": "code",
      "metadata": {
        "colab": {
          "base_uri": "https://localhost:8080/",
          "height": 326
        },
        "id": "uRYtyAkH9HK4",
        "outputId": "28fd4537-f7b1-468a-bced-04b2efcf8c57"
      },
      "source": [
        "activity = pd.read_csv(\"/content/drive/MyDrive/Red_Hat_Business_Value/act_train.csv\")\n",
        "print(\"Shape of train dataset\",activity.shape)\n",
        "activity.head()"
      ],
      "execution_count": null,
      "outputs": [
        {
          "output_type": "stream",
          "text": [
            "Shape of train dataset (2197291, 15)\n"
          ],
          "name": "stdout"
        },
        {
          "output_type": "execute_result",
          "data": {
            "text/html": [
              "<div>\n",
              "<style scoped>\n",
              "    .dataframe tbody tr th:only-of-type {\n",
              "        vertical-align: middle;\n",
              "    }\n",
              "\n",
              "    .dataframe tbody tr th {\n",
              "        vertical-align: top;\n",
              "    }\n",
              "\n",
              "    .dataframe thead th {\n",
              "        text-align: right;\n",
              "    }\n",
              "</style>\n",
              "<table border=\"1\" class=\"dataframe\">\n",
              "  <thead>\n",
              "    <tr style=\"text-align: right;\">\n",
              "      <th></th>\n",
              "      <th>people_id</th>\n",
              "      <th>activity_id</th>\n",
              "      <th>date</th>\n",
              "      <th>activity_category</th>\n",
              "      <th>char_1</th>\n",
              "      <th>char_2</th>\n",
              "      <th>char_3</th>\n",
              "      <th>char_4</th>\n",
              "      <th>char_5</th>\n",
              "      <th>char_6</th>\n",
              "      <th>char_7</th>\n",
              "      <th>char_8</th>\n",
              "      <th>char_9</th>\n",
              "      <th>char_10</th>\n",
              "      <th>outcome</th>\n",
              "    </tr>\n",
              "  </thead>\n",
              "  <tbody>\n",
              "    <tr>\n",
              "      <th>0</th>\n",
              "      <td>ppl_100</td>\n",
              "      <td>act2_1734928</td>\n",
              "      <td>2023-08-26</td>\n",
              "      <td>type 4</td>\n",
              "      <td>NaN</td>\n",
              "      <td>NaN</td>\n",
              "      <td>NaN</td>\n",
              "      <td>NaN</td>\n",
              "      <td>NaN</td>\n",
              "      <td>NaN</td>\n",
              "      <td>NaN</td>\n",
              "      <td>NaN</td>\n",
              "      <td>NaN</td>\n",
              "      <td>type 76</td>\n",
              "      <td>0</td>\n",
              "    </tr>\n",
              "    <tr>\n",
              "      <th>1</th>\n",
              "      <td>ppl_100</td>\n",
              "      <td>act2_2434093</td>\n",
              "      <td>2022-09-27</td>\n",
              "      <td>type 2</td>\n",
              "      <td>NaN</td>\n",
              "      <td>NaN</td>\n",
              "      <td>NaN</td>\n",
              "      <td>NaN</td>\n",
              "      <td>NaN</td>\n",
              "      <td>NaN</td>\n",
              "      <td>NaN</td>\n",
              "      <td>NaN</td>\n",
              "      <td>NaN</td>\n",
              "      <td>type 1</td>\n",
              "      <td>0</td>\n",
              "    </tr>\n",
              "    <tr>\n",
              "      <th>2</th>\n",
              "      <td>ppl_100</td>\n",
              "      <td>act2_3404049</td>\n",
              "      <td>2022-09-27</td>\n",
              "      <td>type 2</td>\n",
              "      <td>NaN</td>\n",
              "      <td>NaN</td>\n",
              "      <td>NaN</td>\n",
              "      <td>NaN</td>\n",
              "      <td>NaN</td>\n",
              "      <td>NaN</td>\n",
              "      <td>NaN</td>\n",
              "      <td>NaN</td>\n",
              "      <td>NaN</td>\n",
              "      <td>type 1</td>\n",
              "      <td>0</td>\n",
              "    </tr>\n",
              "    <tr>\n",
              "      <th>3</th>\n",
              "      <td>ppl_100</td>\n",
              "      <td>act2_3651215</td>\n",
              "      <td>2023-08-04</td>\n",
              "      <td>type 2</td>\n",
              "      <td>NaN</td>\n",
              "      <td>NaN</td>\n",
              "      <td>NaN</td>\n",
              "      <td>NaN</td>\n",
              "      <td>NaN</td>\n",
              "      <td>NaN</td>\n",
              "      <td>NaN</td>\n",
              "      <td>NaN</td>\n",
              "      <td>NaN</td>\n",
              "      <td>type 1</td>\n",
              "      <td>0</td>\n",
              "    </tr>\n",
              "    <tr>\n",
              "      <th>4</th>\n",
              "      <td>ppl_100</td>\n",
              "      <td>act2_4109017</td>\n",
              "      <td>2023-08-26</td>\n",
              "      <td>type 2</td>\n",
              "      <td>NaN</td>\n",
              "      <td>NaN</td>\n",
              "      <td>NaN</td>\n",
              "      <td>NaN</td>\n",
              "      <td>NaN</td>\n",
              "      <td>NaN</td>\n",
              "      <td>NaN</td>\n",
              "      <td>NaN</td>\n",
              "      <td>NaN</td>\n",
              "      <td>type 1</td>\n",
              "      <td>0</td>\n",
              "    </tr>\n",
              "  </tbody>\n",
              "</table>\n",
              "</div>"
            ],
            "text/plain": [
              "  people_id   activity_id        date  ... char_9  char_10 outcome\n",
              "0   ppl_100  act2_1734928  2023-08-26  ...    NaN  type 76       0\n",
              "1   ppl_100  act2_2434093  2022-09-27  ...    NaN   type 1       0\n",
              "2   ppl_100  act2_3404049  2022-09-27  ...    NaN   type 1       0\n",
              "3   ppl_100  act2_3651215  2023-08-04  ...    NaN   type 1       0\n",
              "4   ppl_100  act2_4109017  2023-08-26  ...    NaN   type 1       0\n",
              "\n",
              "[5 rows x 15 columns]"
            ]
          },
          "metadata": {
            "tags": []
          },
          "execution_count": 2
        }
      ]
    },
    {
      "cell_type": "code",
      "metadata": {
        "colab": {
          "base_uri": "https://localhost:8080/",
          "height": 326
        },
        "id": "ELg0Vl-u9MEf",
        "outputId": "9803babe-77d9-4d40-e284-d6a47f9076bd"
      },
      "source": [
        "people = pd.read_csv(\"/content/drive/MyDrive/Red_Hat_Business_Value/people.csv\")\n",
        "print(\"Shape of people dataset\",people.shape)\n",
        "people.head()"
      ],
      "execution_count": null,
      "outputs": [
        {
          "output_type": "stream",
          "text": [
            "Shape of people dataset (189118, 41)\n"
          ],
          "name": "stdout"
        },
        {
          "output_type": "execute_result",
          "data": {
            "text/html": [
              "<div>\n",
              "<style scoped>\n",
              "    .dataframe tbody tr th:only-of-type {\n",
              "        vertical-align: middle;\n",
              "    }\n",
              "\n",
              "    .dataframe tbody tr th {\n",
              "        vertical-align: top;\n",
              "    }\n",
              "\n",
              "    .dataframe thead th {\n",
              "        text-align: right;\n",
              "    }\n",
              "</style>\n",
              "<table border=\"1\" class=\"dataframe\">\n",
              "  <thead>\n",
              "    <tr style=\"text-align: right;\">\n",
              "      <th></th>\n",
              "      <th>people_id</th>\n",
              "      <th>char_1</th>\n",
              "      <th>group_1</th>\n",
              "      <th>char_2</th>\n",
              "      <th>date</th>\n",
              "      <th>char_3</th>\n",
              "      <th>char_4</th>\n",
              "      <th>char_5</th>\n",
              "      <th>char_6</th>\n",
              "      <th>char_7</th>\n",
              "      <th>char_8</th>\n",
              "      <th>char_9</th>\n",
              "      <th>char_10</th>\n",
              "      <th>char_11</th>\n",
              "      <th>char_12</th>\n",
              "      <th>char_13</th>\n",
              "      <th>char_14</th>\n",
              "      <th>char_15</th>\n",
              "      <th>char_16</th>\n",
              "      <th>char_17</th>\n",
              "      <th>char_18</th>\n",
              "      <th>char_19</th>\n",
              "      <th>char_20</th>\n",
              "      <th>char_21</th>\n",
              "      <th>char_22</th>\n",
              "      <th>char_23</th>\n",
              "      <th>char_24</th>\n",
              "      <th>char_25</th>\n",
              "      <th>char_26</th>\n",
              "      <th>char_27</th>\n",
              "      <th>char_28</th>\n",
              "      <th>char_29</th>\n",
              "      <th>char_30</th>\n",
              "      <th>char_31</th>\n",
              "      <th>char_32</th>\n",
              "      <th>char_33</th>\n",
              "      <th>char_34</th>\n",
              "      <th>char_35</th>\n",
              "      <th>char_36</th>\n",
              "      <th>char_37</th>\n",
              "      <th>char_38</th>\n",
              "    </tr>\n",
              "  </thead>\n",
              "  <tbody>\n",
              "    <tr>\n",
              "      <th>0</th>\n",
              "      <td>ppl_100</td>\n",
              "      <td>type 2</td>\n",
              "      <td>group 17304</td>\n",
              "      <td>type 2</td>\n",
              "      <td>2021-06-29</td>\n",
              "      <td>type 5</td>\n",
              "      <td>type 5</td>\n",
              "      <td>type 5</td>\n",
              "      <td>type 3</td>\n",
              "      <td>type 11</td>\n",
              "      <td>type 2</td>\n",
              "      <td>type 2</td>\n",
              "      <td>True</td>\n",
              "      <td>False</td>\n",
              "      <td>False</td>\n",
              "      <td>True</td>\n",
              "      <td>True</td>\n",
              "      <td>False</td>\n",
              "      <td>True</td>\n",
              "      <td>False</td>\n",
              "      <td>False</td>\n",
              "      <td>False</td>\n",
              "      <td>False</td>\n",
              "      <td>True</td>\n",
              "      <td>False</td>\n",
              "      <td>False</td>\n",
              "      <td>False</td>\n",
              "      <td>False</td>\n",
              "      <td>False</td>\n",
              "      <td>True</td>\n",
              "      <td>True</td>\n",
              "      <td>False</td>\n",
              "      <td>True</td>\n",
              "      <td>True</td>\n",
              "      <td>False</td>\n",
              "      <td>False</td>\n",
              "      <td>True</td>\n",
              "      <td>True</td>\n",
              "      <td>True</td>\n",
              "      <td>False</td>\n",
              "      <td>36</td>\n",
              "    </tr>\n",
              "    <tr>\n",
              "      <th>1</th>\n",
              "      <td>ppl_100002</td>\n",
              "      <td>type 2</td>\n",
              "      <td>group 8688</td>\n",
              "      <td>type 3</td>\n",
              "      <td>2021-01-06</td>\n",
              "      <td>type 28</td>\n",
              "      <td>type 9</td>\n",
              "      <td>type 5</td>\n",
              "      <td>type 3</td>\n",
              "      <td>type 11</td>\n",
              "      <td>type 2</td>\n",
              "      <td>type 4</td>\n",
              "      <td>False</td>\n",
              "      <td>False</td>\n",
              "      <td>True</td>\n",
              "      <td>True</td>\n",
              "      <td>False</td>\n",
              "      <td>False</td>\n",
              "      <td>False</td>\n",
              "      <td>True</td>\n",
              "      <td>False</td>\n",
              "      <td>False</td>\n",
              "      <td>False</td>\n",
              "      <td>False</td>\n",
              "      <td>False</td>\n",
              "      <td>True</td>\n",
              "      <td>False</td>\n",
              "      <td>True</td>\n",
              "      <td>True</td>\n",
              "      <td>True</td>\n",
              "      <td>False</td>\n",
              "      <td>False</td>\n",
              "      <td>True</td>\n",
              "      <td>True</td>\n",
              "      <td>True</td>\n",
              "      <td>True</td>\n",
              "      <td>True</td>\n",
              "      <td>True</td>\n",
              "      <td>True</td>\n",
              "      <td>False</td>\n",
              "      <td>76</td>\n",
              "    </tr>\n",
              "    <tr>\n",
              "      <th>2</th>\n",
              "      <td>ppl_100003</td>\n",
              "      <td>type 2</td>\n",
              "      <td>group 33592</td>\n",
              "      <td>type 3</td>\n",
              "      <td>2022-06-10</td>\n",
              "      <td>type 4</td>\n",
              "      <td>type 8</td>\n",
              "      <td>type 5</td>\n",
              "      <td>type 2</td>\n",
              "      <td>type 5</td>\n",
              "      <td>type 2</td>\n",
              "      <td>type 2</td>\n",
              "      <td>True</td>\n",
              "      <td>True</td>\n",
              "      <td>True</td>\n",
              "      <td>True</td>\n",
              "      <td>True</td>\n",
              "      <td>True</td>\n",
              "      <td>False</td>\n",
              "      <td>True</td>\n",
              "      <td>False</td>\n",
              "      <td>True</td>\n",
              "      <td>False</td>\n",
              "      <td>True</td>\n",
              "      <td>True</td>\n",
              "      <td>True</td>\n",
              "      <td>True</td>\n",
              "      <td>True</td>\n",
              "      <td>True</td>\n",
              "      <td>True</td>\n",
              "      <td>True</td>\n",
              "      <td>False</td>\n",
              "      <td>False</td>\n",
              "      <td>True</td>\n",
              "      <td>True</td>\n",
              "      <td>True</td>\n",
              "      <td>True</td>\n",
              "      <td>False</td>\n",
              "      <td>True</td>\n",
              "      <td>True</td>\n",
              "      <td>99</td>\n",
              "    </tr>\n",
              "    <tr>\n",
              "      <th>3</th>\n",
              "      <td>ppl_100004</td>\n",
              "      <td>type 2</td>\n",
              "      <td>group 22593</td>\n",
              "      <td>type 3</td>\n",
              "      <td>2022-07-20</td>\n",
              "      <td>type 40</td>\n",
              "      <td>type 25</td>\n",
              "      <td>type 9</td>\n",
              "      <td>type 4</td>\n",
              "      <td>type 16</td>\n",
              "      <td>type 2</td>\n",
              "      <td>type 2</td>\n",
              "      <td>True</td>\n",
              "      <td>True</td>\n",
              "      <td>True</td>\n",
              "      <td>True</td>\n",
              "      <td>True</td>\n",
              "      <td>False</td>\n",
              "      <td>True</td>\n",
              "      <td>True</td>\n",
              "      <td>True</td>\n",
              "      <td>True</td>\n",
              "      <td>True</td>\n",
              "      <td>True</td>\n",
              "      <td>True</td>\n",
              "      <td>True</td>\n",
              "      <td>False</td>\n",
              "      <td>True</td>\n",
              "      <td>True</td>\n",
              "      <td>True</td>\n",
              "      <td>True</td>\n",
              "      <td>True</td>\n",
              "      <td>True</td>\n",
              "      <td>True</td>\n",
              "      <td>True</td>\n",
              "      <td>True</td>\n",
              "      <td>True</td>\n",
              "      <td>True</td>\n",
              "      <td>True</td>\n",
              "      <td>True</td>\n",
              "      <td>76</td>\n",
              "    </tr>\n",
              "    <tr>\n",
              "      <th>4</th>\n",
              "      <td>ppl_100006</td>\n",
              "      <td>type 2</td>\n",
              "      <td>group 6534</td>\n",
              "      <td>type 3</td>\n",
              "      <td>2022-07-27</td>\n",
              "      <td>type 40</td>\n",
              "      <td>type 25</td>\n",
              "      <td>type 9</td>\n",
              "      <td>type 3</td>\n",
              "      <td>type 8</td>\n",
              "      <td>type 2</td>\n",
              "      <td>type 2</td>\n",
              "      <td>False</td>\n",
              "      <td>False</td>\n",
              "      <td>False</td>\n",
              "      <td>False</td>\n",
              "      <td>False</td>\n",
              "      <td>False</td>\n",
              "      <td>False</td>\n",
              "      <td>False</td>\n",
              "      <td>False</td>\n",
              "      <td>False</td>\n",
              "      <td>False</td>\n",
              "      <td>False</td>\n",
              "      <td>False</td>\n",
              "      <td>False</td>\n",
              "      <td>False</td>\n",
              "      <td>False</td>\n",
              "      <td>False</td>\n",
              "      <td>False</td>\n",
              "      <td>False</td>\n",
              "      <td>False</td>\n",
              "      <td>False</td>\n",
              "      <td>True</td>\n",
              "      <td>False</td>\n",
              "      <td>False</td>\n",
              "      <td>False</td>\n",
              "      <td>True</td>\n",
              "      <td>True</td>\n",
              "      <td>False</td>\n",
              "      <td>84</td>\n",
              "    </tr>\n",
              "  </tbody>\n",
              "</table>\n",
              "</div>"
            ],
            "text/plain": [
              "    people_id  char_1      group_1  char_2  ... char_35 char_36 char_37 char_38\n",
              "0     ppl_100  type 2  group 17304  type 2  ...    True    True   False      36\n",
              "1  ppl_100002  type 2   group 8688  type 3  ...    True    True   False      76\n",
              "2  ppl_100003  type 2  group 33592  type 3  ...   False    True    True      99\n",
              "3  ppl_100004  type 2  group 22593  type 3  ...    True    True    True      76\n",
              "4  ppl_100006  type 2   group 6534  type 3  ...    True    True   False      84\n",
              "\n",
              "[5 rows x 41 columns]"
            ]
          },
          "metadata": {
            "tags": []
          },
          "execution_count": 3
        }
      ]
    },
    {
      "cell_type": "code",
      "metadata": {
        "colab": {
          "base_uri": "https://localhost:8080/"
        },
        "id": "1w-gBsPU9Zph",
        "outputId": "77e8bb7b-c354-4fcc-cab0-d5f990057395"
      },
      "source": [
        "# Show the shape\n",
        "\n",
        "print(people.shape)\n",
        "\n",
        "# Show the null percent\n",
        "\n",
        "100*people.isnull().sum()/people.shape[0]"
      ],
      "execution_count": null,
      "outputs": [
        {
          "output_type": "stream",
          "text": [
            "(189118, 41)\n"
          ],
          "name": "stdout"
        },
        {
          "output_type": "execute_result",
          "data": {
            "text/plain": [
              "people_id    0.0\n",
              "char_1       0.0\n",
              "group_1      0.0\n",
              "char_2       0.0\n",
              "date         0.0\n",
              "char_3       0.0\n",
              "char_4       0.0\n",
              "char_5       0.0\n",
              "char_6       0.0\n",
              "char_7       0.0\n",
              "char_8       0.0\n",
              "char_9       0.0\n",
              "char_10      0.0\n",
              "char_11      0.0\n",
              "char_12      0.0\n",
              "char_13      0.0\n",
              "char_14      0.0\n",
              "char_15      0.0\n",
              "char_16      0.0\n",
              "char_17      0.0\n",
              "char_18      0.0\n",
              "char_19      0.0\n",
              "char_20      0.0\n",
              "char_21      0.0\n",
              "char_22      0.0\n",
              "char_23      0.0\n",
              "char_24      0.0\n",
              "char_25      0.0\n",
              "char_26      0.0\n",
              "char_27      0.0\n",
              "char_28      0.0\n",
              "char_29      0.0\n",
              "char_30      0.0\n",
              "char_31      0.0\n",
              "char_32      0.0\n",
              "char_33      0.0\n",
              "char_34      0.0\n",
              "char_35      0.0\n",
              "char_36      0.0\n",
              "char_37      0.0\n",
              "char_38      0.0\n",
              "dtype: float64"
            ]
          },
          "metadata": {
            "tags": []
          },
          "execution_count": 4
        }
      ]
    },
    {
      "cell_type": "code",
      "metadata": {
        "colab": {
          "base_uri": "https://localhost:8080/"
        },
        "id": "g4EPMpw99dY0",
        "outputId": "b3ec8cdf-325c-4229-cb85-6cff60421fd8"
      },
      "source": [
        "# We repet with the other dataset \n",
        "\n",
        "print(activity.shape)\n",
        "100*activity.isnull().sum()/activity.shape[0]\n",
        "\n",
        "# We gonna delete the columns 90% null and fill "
      ],
      "execution_count": null,
      "outputs": [
        {
          "output_type": "stream",
          "text": [
            "(2197291, 15)\n"
          ],
          "name": "stdout"
        },
        {
          "output_type": "execute_result",
          "data": {
            "text/plain": [
              "people_id             0.000000\n",
              "activity_id           0.000000\n",
              "date                  0.000000\n",
              "activity_category     0.000000\n",
              "char_1               92.826849\n",
              "char_2               92.826849\n",
              "char_3               92.826849\n",
              "char_4               92.826849\n",
              "char_5               92.826849\n",
              "char_6               92.826849\n",
              "char_7               92.826849\n",
              "char_8               92.826849\n",
              "char_9               92.826849\n",
              "char_10               7.173151\n",
              "outcome               0.000000\n",
              "dtype: float64"
            ]
          },
          "metadata": {
            "tags": []
          },
          "execution_count": 5
        }
      ]
    },
    {
      "cell_type": "code",
      "metadata": {
        "colab": {
          "base_uri": "https://localhost:8080/"
        },
        "id": "Uhidl7Wy9g4U",
        "outputId": "d381d288-d351-4045-cfbd-ecf325781be4"
      },
      "source": [
        "activity.drop(columns=['char_1','char_2','char_3','char_4','char_5','char_6','char_7','char_8','char_9'],inplace=True)\n",
        "\n",
        "print(activity.shape)"
      ],
      "execution_count": null,
      "outputs": [
        {
          "output_type": "stream",
          "text": [
            "(2197291, 6)\n"
          ],
          "name": "stdout"
        }
      ]
    },
    {
      "cell_type": "code",
      "metadata": {
        "id": "ojUYkfwZ9l5P"
      },
      "source": [
        "activity['char_10'] = activity['char_10'].fillna(activity[\"char_10\"].mode()[0])"
      ],
      "execution_count": null,
      "outputs": []
    },
    {
      "cell_type": "code",
      "metadata": {
        "colab": {
          "base_uri": "https://localhost:8080/"
        },
        "id": "3Gy3XArm9qBC",
        "outputId": "94fe8789-e3b0-4122-b4c3-7bd41bbfada9"
      },
      "source": [
        "100*activity.isnull().sum()/activity.shape[0]"
      ],
      "execution_count": null,
      "outputs": [
        {
          "output_type": "execute_result",
          "data": {
            "text/plain": [
              "people_id            0.0\n",
              "activity_id          0.0\n",
              "date                 0.0\n",
              "activity_category    0.0\n",
              "char_10              0.0\n",
              "outcome              0.0\n",
              "dtype: float64"
            ]
          },
          "metadata": {
            "tags": []
          },
          "execution_count": 8
        }
      ]
    },
    {
      "cell_type": "code",
      "metadata": {
        "colab": {
          "base_uri": "https://localhost:8080/",
          "height": 204
        },
        "id": "VVs0yyJE9sUL",
        "outputId": "d8e8293f-9a41-44ed-d27c-822de64da277"
      },
      "source": [
        "activity = activity.rename(columns={\"date\":\"data_activity\",\"char_10\":\"activity_type\"})\n",
        "activity.head()"
      ],
      "execution_count": null,
      "outputs": [
        {
          "output_type": "execute_result",
          "data": {
            "text/html": [
              "<div>\n",
              "<style scoped>\n",
              "    .dataframe tbody tr th:only-of-type {\n",
              "        vertical-align: middle;\n",
              "    }\n",
              "\n",
              "    .dataframe tbody tr th {\n",
              "        vertical-align: top;\n",
              "    }\n",
              "\n",
              "    .dataframe thead th {\n",
              "        text-align: right;\n",
              "    }\n",
              "</style>\n",
              "<table border=\"1\" class=\"dataframe\">\n",
              "  <thead>\n",
              "    <tr style=\"text-align: right;\">\n",
              "      <th></th>\n",
              "      <th>people_id</th>\n",
              "      <th>activity_id</th>\n",
              "      <th>data_activity</th>\n",
              "      <th>activity_category</th>\n",
              "      <th>activity_type</th>\n",
              "      <th>outcome</th>\n",
              "    </tr>\n",
              "  </thead>\n",
              "  <tbody>\n",
              "    <tr>\n",
              "      <th>0</th>\n",
              "      <td>ppl_100</td>\n",
              "      <td>act2_1734928</td>\n",
              "      <td>2023-08-26</td>\n",
              "      <td>type 4</td>\n",
              "      <td>type 76</td>\n",
              "      <td>0</td>\n",
              "    </tr>\n",
              "    <tr>\n",
              "      <th>1</th>\n",
              "      <td>ppl_100</td>\n",
              "      <td>act2_2434093</td>\n",
              "      <td>2022-09-27</td>\n",
              "      <td>type 2</td>\n",
              "      <td>type 1</td>\n",
              "      <td>0</td>\n",
              "    </tr>\n",
              "    <tr>\n",
              "      <th>2</th>\n",
              "      <td>ppl_100</td>\n",
              "      <td>act2_3404049</td>\n",
              "      <td>2022-09-27</td>\n",
              "      <td>type 2</td>\n",
              "      <td>type 1</td>\n",
              "      <td>0</td>\n",
              "    </tr>\n",
              "    <tr>\n",
              "      <th>3</th>\n",
              "      <td>ppl_100</td>\n",
              "      <td>act2_3651215</td>\n",
              "      <td>2023-08-04</td>\n",
              "      <td>type 2</td>\n",
              "      <td>type 1</td>\n",
              "      <td>0</td>\n",
              "    </tr>\n",
              "    <tr>\n",
              "      <th>4</th>\n",
              "      <td>ppl_100</td>\n",
              "      <td>act2_4109017</td>\n",
              "      <td>2023-08-26</td>\n",
              "      <td>type 2</td>\n",
              "      <td>type 1</td>\n",
              "      <td>0</td>\n",
              "    </tr>\n",
              "  </tbody>\n",
              "</table>\n",
              "</div>"
            ],
            "text/plain": [
              "  people_id   activity_id  ... activity_type outcome\n",
              "0   ppl_100  act2_1734928  ...       type 76       0\n",
              "1   ppl_100  act2_2434093  ...        type 1       0\n",
              "2   ppl_100  act2_3404049  ...        type 1       0\n",
              "3   ppl_100  act2_3651215  ...        type 1       0\n",
              "4   ppl_100  act2_4109017  ...        type 1       0\n",
              "\n",
              "[5 rows x 6 columns]"
            ]
          },
          "metadata": {
            "tags": []
          },
          "execution_count": 9
        }
      ]
    },
    {
      "cell_type": "code",
      "metadata": {
        "colab": {
          "base_uri": "https://localhost:8080/"
        },
        "id": "Q5fUzftH9v_A",
        "outputId": "8f38e9c1-eedf-45e0-af68-4b26db0b714d"
      },
      "source": [
        "all_data = activity.merge(people,on=[\"people_id\"], how=\"inner\")\n",
        "all_data.shape"
      ],
      "execution_count": null,
      "outputs": [
        {
          "output_type": "execute_result",
          "data": {
            "text/plain": [
              "(2197291, 46)"
            ]
          },
          "metadata": {
            "tags": []
          },
          "execution_count": 10
        }
      ]
    },
    {
      "cell_type": "code",
      "metadata": {
        "colab": {
          "base_uri": "https://localhost:8080/"
        },
        "id": "nmqLlw-79ykD",
        "outputId": "7c8034db-ebf0-47e8-a919-c5728a1163b0"
      },
      "source": [
        "100*all_data[\"outcome\"].value_counts()/all_data.shape[0]"
      ],
      "execution_count": null,
      "outputs": [
        {
          "output_type": "execute_result",
          "data": {
            "text/plain": [
              "0    55.60456\n",
              "1    44.39544\n",
              "Name: outcome, dtype: float64"
            ]
          },
          "metadata": {
            "tags": []
          },
          "execution_count": 11
        }
      ]
    },
    {
      "cell_type": "code",
      "metadata": {
        "colab": {
          "base_uri": "https://localhost:8080/"
        },
        "id": "3DtFRb6b91wQ",
        "outputId": "fde8685e-d8e3-4d51-bab2-02a1d3dfd26d"
      },
      "source": [
        "types = pd.DataFrame(all_data.dtypes)\n",
        "print(\"Types of variables: \", types.groupby(0).size())"
      ],
      "execution_count": null,
      "outputs": [
        {
          "output_type": "stream",
          "text": [
            "Types of variables:  0\n",
            "bool      28\n",
            "int64      2\n",
            "object    16\n",
            "dtype: int64\n"
          ],
          "name": "stdout"
        }
      ]
    },
    {
      "cell_type": "code",
      "metadata": {
        "id": "7ikQnt7b95pO"
      },
      "source": [
        "all_data = all_data.replace({False: 0, True: 1})"
      ],
      "execution_count": null,
      "outputs": []
    },
    {
      "cell_type": "code",
      "metadata": {
        "colab": {
          "base_uri": "https://localhost:8080/"
        },
        "id": "redPFkPd983X",
        "outputId": "8bcf7b9e-6918-4f88-9098-70293227f2bb"
      },
      "source": [
        "types = pd.DataFrame(all_data.dtypes)\n",
        "print(\"Types of variables replace: \", types.groupby(0).size()) "
      ],
      "execution_count": null,
      "outputs": [
        {
          "output_type": "stream",
          "text": [
            "Types of variables replace:  0\n",
            "int64     30\n",
            "object    16\n",
            "dtype: int64\n"
          ],
          "name": "stdout"
        }
      ]
    },
    {
      "cell_type": "code",
      "metadata": {
        "colab": {
          "base_uri": "https://localhost:8080/"
        },
        "id": "qPs8481D9_BS",
        "outputId": "31f1f9e2-1c9b-4e8d-fbf3-7679d163102c"
      },
      "source": [
        "all_data.people_id = all_data.people_id.str.slice(start=4).astype(float).astype(int)\n",
        "\n",
        "types = pd.DataFrame(all_data.dtypes)\n",
        "print(\"Second replace: \",types.groupby(0).size())"
      ],
      "execution_count": null,
      "outputs": [
        {
          "output_type": "stream",
          "text": [
            "Second replace:  0\n",
            "int64     31\n",
            "object    15\n",
            "dtype: int64\n"
          ],
          "name": "stdout"
        }
      ]
    },
    {
      "cell_type": "code",
      "metadata": {
        "colab": {
          "base_uri": "https://localhost:8080/",
          "height": 142
        },
        "id": "b3vLXDIo-Cag",
        "outputId": "4fe52d6b-9b26-461c-e173-910e6c756aeb"
      },
      "source": [
        "all_data[[\"activity_id\", \"activity_category\", \"group_1\", \"activity_type\"]].head(3)"
      ],
      "execution_count": null,
      "outputs": [
        {
          "output_type": "execute_result",
          "data": {
            "text/html": [
              "<div>\n",
              "<style scoped>\n",
              "    .dataframe tbody tr th:only-of-type {\n",
              "        vertical-align: middle;\n",
              "    }\n",
              "\n",
              "    .dataframe tbody tr th {\n",
              "        vertical-align: top;\n",
              "    }\n",
              "\n",
              "    .dataframe thead th {\n",
              "        text-align: right;\n",
              "    }\n",
              "</style>\n",
              "<table border=\"1\" class=\"dataframe\">\n",
              "  <thead>\n",
              "    <tr style=\"text-align: right;\">\n",
              "      <th></th>\n",
              "      <th>activity_id</th>\n",
              "      <th>activity_category</th>\n",
              "      <th>group_1</th>\n",
              "      <th>activity_type</th>\n",
              "    </tr>\n",
              "  </thead>\n",
              "  <tbody>\n",
              "    <tr>\n",
              "      <th>0</th>\n",
              "      <td>act2_1734928</td>\n",
              "      <td>type 4</td>\n",
              "      <td>group 17304</td>\n",
              "      <td>type 76</td>\n",
              "    </tr>\n",
              "    <tr>\n",
              "      <th>1</th>\n",
              "      <td>act2_2434093</td>\n",
              "      <td>type 2</td>\n",
              "      <td>group 17304</td>\n",
              "      <td>type 1</td>\n",
              "    </tr>\n",
              "    <tr>\n",
              "      <th>2</th>\n",
              "      <td>act2_3404049</td>\n",
              "      <td>type 2</td>\n",
              "      <td>group 17304</td>\n",
              "      <td>type 1</td>\n",
              "    </tr>\n",
              "  </tbody>\n",
              "</table>\n",
              "</div>"
            ],
            "text/plain": [
              "    activity_id activity_category      group_1 activity_type\n",
              "0  act2_1734928            type 4  group 17304       type 76\n",
              "1  act2_2434093            type 2  group 17304        type 1\n",
              "2  act2_3404049            type 2  group 17304        type 1"
            ]
          },
          "metadata": {
            "tags": []
          },
          "execution_count": 16
        }
      ]
    },
    {
      "cell_type": "code",
      "metadata": {
        "colab": {
          "base_uri": "https://localhost:8080/"
        },
        "id": "kbFtb2_q-Fbh",
        "outputId": "7b30920a-5000-4cf7-cbbc-9bcf2d42402f"
      },
      "source": [
        "all_data.activity_id = all_data.activity_id.str.slice(start=5).astype(float).astype(int)\n",
        "all_data.activity_category = all_data.activity_category.str.slice(start=5).astype(float).astype(int)\n",
        "all_data.group_1 = all_data.group_1.str.slice(start=6).astype(float).astype(int)\n",
        "all_data.activity_type = all_data.activity_type.str.slice(start=5).astype(float).astype(int)\n",
        "\n",
        "types = pd.DataFrame(all_data.dtypes)\n",
        "print(\"Thith\",types.groupby(0).size()) "
      ],
      "execution_count": null,
      "outputs": [
        {
          "output_type": "stream",
          "text": [
            "Thith 0\n",
            "int64     35\n",
            "object    11\n",
            "dtype: int64\n"
          ],
          "name": "stdout"
        }
      ]
    },
    {
      "cell_type": "code",
      "metadata": {
        "colab": {
          "base_uri": "https://localhost:8080/"
        },
        "id": "sL6Jw2nF-Ich",
        "outputId": "815c2980-73b6-452a-be87-f81b6e180fe2"
      },
      "source": [
        "categorics = types.index[types[0] == 'O'].values \n",
        "for line in categorics:\n",
        "    print(\"The variable \"+ line +\"contine: \", str(len(all_data[line].unique()))+\" distinct values\")"
      ],
      "execution_count": null,
      "outputs": [
        {
          "output_type": "stream",
          "text": [
            "The variable data_activitycontine:  411 distinct values\n",
            "The variable char_1contine:  2 distinct values\n",
            "The variable char_2contine:  3 distinct values\n",
            "The variable datecontine:  1196 distinct values\n",
            "The variable char_3contine:  43 distinct values\n",
            "The variable char_4contine:  25 distinct values\n",
            "The variable char_5contine:  9 distinct values\n",
            "The variable char_6contine:  7 distinct values\n",
            "The variable char_7contine:  25 distinct values\n",
            "The variable char_8contine:  8 distinct values\n",
            "The variable char_9contine:  9 distinct values\n"
          ],
          "name": "stdout"
        }
      ]
    },
    {
      "cell_type": "code",
      "metadata": {
        "colab": {
          "base_uri": "https://localhost:8080/"
        },
        "id": "6fBgae72-MPd",
        "outputId": "be80abcc-ca5d-4f42-c8cd-cdb5094fdb51"
      },
      "source": [
        "all_data[\"date\"] = pd.to_datetime(all_data[\"date\"])\n",
        "\n",
        "# Create new variables \n",
        "all_data[\"day\"] = all_data[\"date\"].dt.day\n",
        "all_data[\"day_of_week\"] = all_data[\"date\"].dt.weekday\n",
        "all_data[\"week\"] = all_data[\"date\"].dt.week\n",
        "all_data[\"month\"] = all_data[\"date\"].dt.month\n",
        "all_data[\"trimester\"] = all_data[\"date\"].dt.quarter\n",
        "all_data[\"year\"] = all_data[\"date\"].dt.year"
      ],
      "execution_count": null,
      "outputs": [
        {
          "output_type": "stream",
          "text": [
            "/usr/local/lib/python3.7/dist-packages/ipykernel_launcher.py:6: FutureWarning: Series.dt.weekofyear and Series.dt.week have been deprecated.  Please use Series.dt.isocalendar().week instead.\n",
            "  \n"
          ],
          "name": "stderr"
        }
      ]
    },
    {
      "cell_type": "code",
      "metadata": {
        "colab": {
          "base_uri": "https://localhost:8080/"
        },
        "id": "GgiuiRdh-Pxk",
        "outputId": "0c3aaf3c-259e-41ac-8ed9-6fe13f636bae"
      },
      "source": [
        "all_data[\"data_activity\"] = pd.to_datetime(all_data[\"data_activity\"])\n",
        "all_data[\"activity_day\"] = all_data[\"data_activity\"].dt.day\n",
        "all_data[\"activity_day_of_week\"] = all_data[\"data_activity\"].dt.weekday\n",
        "all_data[\"activity_week\"] = all_data[\"data_activity\"].dt.week\n",
        "all_data[\"activity_month\"] = all_data[\"data_activity\"].dt.month\n",
        "all_data[\"activity_trimester\"] = all_data[\"data_activity\"].dt.quarter\n",
        "all_data[\"activity_year\"] = all_data[\"data_activity\"].dt.year"
      ],
      "execution_count": null,
      "outputs": [
        {
          "output_type": "stream",
          "text": [
            "/usr/local/lib/python3.7/dist-packages/ipykernel_launcher.py:4: FutureWarning: Series.dt.weekofyear and Series.dt.week have been deprecated.  Please use Series.dt.isocalendar().week instead.\n",
            "  after removing the cwd from sys.path.\n"
          ],
          "name": "stderr"
        }
      ]
    },
    {
      "cell_type": "code",
      "metadata": {
        "colab": {
          "base_uri": "https://localhost:8080/"
        },
        "id": "e4yH-vwN-Sir",
        "outputId": "26159d6c-d9a0-44f9-fed6-89e84437cf39"
      },
      "source": [
        "del(all_data[\"date\"])\n",
        "del(all_data[\"data_activity\"])\n",
        "\n",
        "types = pd.DataFrame(all_data.dtypes)\n",
        "print(\"Types of variables later of 4to remplace\",types.groupby(0).size())"
      ],
      "execution_count": null,
      "outputs": [
        {
          "output_type": "stream",
          "text": [
            "Types of variables later of 4to remplace 0\n",
            "int64     47\n",
            "object     9\n",
            "dtype: int64\n"
          ],
          "name": "stdout"
        }
      ]
    },
    {
      "cell_type": "code",
      "metadata": {
        "colab": {
          "base_uri": "https://localhost:8080/"
        },
        "id": "bRG2jDtM-VFD",
        "outputId": "e08d3e9a-efca-4ca0-c7b0-332a32b3ef4c"
      },
      "source": [
        "categorics = types.index[types[0] == 'O'].values \n",
        "for line in categorics:\n",
        "    print(\"The variable \"+ line +\"contine: \", str(len(all_data[line].unique()))+\" distinct values\")"
      ],
      "execution_count": null,
      "outputs": [
        {
          "output_type": "stream",
          "text": [
            "The variable char_1contine:  2 distinct values\n",
            "The variable char_2contine:  3 distinct values\n",
            "The variable char_3contine:  43 distinct values\n",
            "The variable char_4contine:  25 distinct values\n",
            "The variable char_5contine:  9 distinct values\n",
            "The variable char_6contine:  7 distinct values\n",
            "The variable char_7contine:  25 distinct values\n",
            "The variable char_8contine:  8 distinct values\n",
            "The variable char_9contine:  9 distinct values\n"
          ],
          "name": "stdout"
        }
      ]
    },
    {
      "cell_type": "code",
      "metadata": {
        "id": "j6tS_Abc-X_e"
      },
      "source": [
        "from sklearn.preprocessing import LabelEncoder,OneHotEncoder\n",
        "\n",
        "# Define dataframe's function and the column to return a dataframe later OHE\n",
        "def crea_OneHotEncoding(df, column):\n",
        "  le = LabelEncoder()\n",
        "  le_ajustado=le.fit_transform(df[column]).reshape(-1,1)\n",
        "  encoder = OneHotEncoder(sparse=False)\n",
        "  column = [column+ \"_\"+ str(i) for i in le.classes_]\n",
        "  data = encoder.fit_transform(le_ajustado)\n",
        "  return(pd.DataFrame(data,columns =column))"
      ],
      "execution_count": null,
      "outputs": []
    },
    {
      "cell_type": "code",
      "metadata": {
        "colab": {
          "base_uri": "https://localhost:8080/"
        },
        "id": "mOJdNm6k-aOo",
        "outputId": "ec282b7e-78f0-4f29-f6f4-e4e768b74550"
      },
      "source": [
        "numeric_columns = list(set(types.index[types[0] ==\"int64\"].values) - set([\"outcome\"]))\n",
        "all_data_finish = all_data[numeric_columns]\n",
        "objetive = all_data[\"outcome\"]\n",
        "\n",
        "categories = types.index[types[0] == 'O'].values\n",
        "for column in categories:\n",
        "  df = crea_OneHotEncoding(all_data,column)\n",
        "  all_data_finish = pd.concat([all_data_finish,df],axis=1)\n",
        "  print(\"Column \",column, \" tranform!\")\n",
        "\n",
        "print(\"Finish size:\",all_data_finish.shape)"
      ],
      "execution_count": null,
      "outputs": [
        {
          "output_type": "stream",
          "text": [
            "Column  char_1  tranform!\n",
            "Column  char_2  tranform!\n",
            "Column  char_3  tranform!\n",
            "Column  char_4  tranform!\n",
            "Column  char_5  tranform!\n",
            "Column  char_6  tranform!\n",
            "Column  char_7  tranform!\n",
            "Column  char_8  tranform!\n",
            "Column  char_9  tranform!\n",
            "Finish size: (2197291, 177)\n"
          ],
          "name": "stdout"
        }
      ]
    },
    {
      "cell_type": "code",
      "metadata": {
        "id": "BAzHliV_-cvC"
      },
      "source": [
        "from sklearn.model_selection import train_test_split\n",
        "\n",
        "# Separte train set and test set  \n",
        "x_train, x_test, y_train, y_test = train_test_split(all_data_finish,objetive, test_size=0.2,random_state=2020)\n",
        "\n",
        "# Create validation set\n",
        "x_train, x_val, y_train, y_val = train_test_split(x_train,y_train, test_size=0.1, random_state=2020)"
      ],
      "execution_count": null,
      "outputs": []
    },
    {
      "cell_type": "code",
      "metadata": {
        "colab": {
          "base_uri": "https://localhost:8080/"
        },
        "id": "2uC-dY3h-gkJ",
        "outputId": "9e60daa1-4ad9-4739-e44c-842b61f2fd32"
      },
      "source": [
        "print(\"Shape of x_train:\",x_train.shape)\n",
        "print(\"Shape of x_test:\",x_test.shape)\n",
        "print(\"Shape of x_val:\",x_val.shape)\n",
        "print(\"Shape of y_train:\",y_train.shape)\n",
        "print(\"Shape of y_test:\",y_test.shape)\n",
        "print(\"Shape of y_val:\",y_val.shape)"
      ],
      "execution_count": null,
      "outputs": [
        {
          "output_type": "stream",
          "text": [
            "Shape of x_train: (1582048, 177)\n",
            "Shape of x_test: (439459, 177)\n",
            "Shape of x_val: (175784, 177)\n",
            "Shape of y_train: (1582048,)\n",
            "Shape of y_test: (439459,)\n",
            "Shape of y_val: (175784,)\n"
          ],
          "name": "stdout"
        }
      ]
    },
    {
      "cell_type": "code",
      "metadata": {
        "id": "IlVi889u-kLB"
      },
      "source": [
        "df_processed_train =pd.concat([x_train, y_train], axis=1)"
      ],
      "execution_count": null,
      "outputs": []
    },
    {
      "cell_type": "code",
      "metadata": {
        "id": "OTKvZI9jDXja"
      },
      "source": [
        "df_processed_train.to_csv(\"/content/drive/MyDrive/df_processed_train.csv\")"
      ],
      "execution_count": null,
      "outputs": []
    },
    {
      "cell_type": "code",
      "metadata": {
        "id": "u1eIVTeOFF07"
      },
      "source": [
        "df_processed_test =pd.concat([x_test, y_test], axis=1)\n",
        "df_processed_test.to_csv(\"/content/drive/MyDrive/df_processed_test.csv\")"
      ],
      "execution_count": null,
      "outputs": []
    },
    {
      "cell_type": "code",
      "metadata": {
        "id": "HiGheFoS_Kdv"
      },
      "source": [
        "df_processed_val =pd.concat([x_val, y_val], axis=1)\n",
        "df_processed_val.to_csv(\"/content/drive/MyDrive/df_processed_val.csv\")"
      ],
      "execution_count": null,
      "outputs": []
    },
    {
      "cell_type": "code",
      "metadata": {
        "id": "u0H529kpFiY_"
      },
      "source": [
        ""
      ],
      "execution_count": null,
      "outputs": []
    }
  ]
}